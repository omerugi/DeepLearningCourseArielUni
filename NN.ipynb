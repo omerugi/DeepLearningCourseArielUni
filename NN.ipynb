{
 "cells": [
  {
   "cell_type": "code",
   "execution_count": 11,
   "metadata": {},
   "outputs": [],
   "source": [
    "import tensorflow as tf\n",
    "import matplotlib.pyplot as plt\n",
    "import tensorflow.keras as keras\n",
    "import numpy as np\n",
    "import pandas as pd\n",
    "\n",
    "#there are 24 letters but for the order j get an index\n",
    "num_categories=25 \n",
    "\n",
    "# Importing the data - test and train\n",
    "test = pd.read_csv(\"sign_mnist_test.csv\").to_numpy() \n",
    "train = pd.read_csv(\"sign_mnist_train.csv\").to_numpy()\n",
    "# Splitting test into x & y - x = fetures y = labels \n",
    "# Note: we do OneHot on the y to get it as a vector at the size of the categories\n",
    "# then put's 1 where the right label is and zero in the rest\n",
    "y_test=test[:,0]\n",
    "y_test=keras.utils.to_categorical(y_test, num_categories)\n",
    "x_test=test[:,1:]/255\n",
    "\n",
    "# Splitting data into x & y - x = fetures y = labels\n",
    "# Note: we do OneHot on the y to get it as a vector at the size of the categories\n",
    "# then put's 1 where the right label is and zero in the rest\n",
    "data_y=train[:,0]\n",
    "data_y=keras.utils.to_categorical(data_y, num_categories)\n",
    "data_x=train[:,1:]/255\n",
    "\n",
    "(hidden1_size, hidden2_size) = (100, 50)\n",
    "\n",
    "# A \"list like\" object that will hold the calculatins as tensors\n",
    "x = tf.placeholder(tf.float32, [None, 784])\n",
    "y_ = tf.placeholder(tf.float32, [None, 25])\n",
    "\n",
    "#first layer\n",
    "W1 = tf.Variable(tf.truncated_normal([784, hidden1_size], stddev=0.1))\n",
    "b1 = tf.Variable(tf.constant(0.1, shape=[hidden1_size]))\n",
    "z1 = tf.nn.relu(tf.matmul(x,W1) + b1)\n",
    "\n",
    "#second layer\n",
    "W2 = tf.Variable(tf.truncated_normal([hidden1_size, hidden2_size], stddev=0.1))\n",
    "b2 = tf.Variable(tf.constant(0.1, shape=[hidden2_size]))\n",
    "z2 = tf.nn.relu(tf.matmul(z1,W2) + b2)\n",
    "\n",
    "#output layer\n",
    "W3 = tf.Variable(tf.truncated_normal([hidden2_size, 25], stddev=0.1))\n",
    "b3 = tf.Variable(tf.constant(0.1, shape=[25]))\n",
    "y = tf.nn.softmax(tf.matmul(z2, W3) + b3)\n",
    "\n",
    "# Define the loss function - Cross entropy\n",
    "cross_entropy = tf.reduce_mean(-tf.reduce_sum(y_ * tf.log(y), reduction_indices=[1]))\n",
    "# Define the update function - Gradient descent\n",
    "train_step = tf.train.GradientDescentOptimizer(0.001).minimize(cross_entropy)\n",
    "\n",
    "# Define accuracy - Percentage of predictions did we get right\n",
    "correct_prediction = tf.equal(tf.argmax(y,1), tf.argmax(y_,1))\n",
    "accuracy = tf.reduce_mean(tf.cast(correct_prediction, tf.float32))\n",
    "\n",
    "iteration_axis = np.array([])\n",
    "accuracy_axis = np.array([])"
   ]
  },
  {
   "cell_type": "markdown",
   "metadata": {},
   "source": [
    "# Neural Network"
   ]
  },
  {
   "cell_type": "code",
   "execution_count": 12,
   "metadata": {},
   "outputs": [
    {
     "name": "stdout",
     "output_type": "stream",
     "text": [
      "Iteration:  0  Accuracy: 0.03750697 loss: 3.285456\n",
      "Iteration:  100  Accuracy: 0.25543782 loss: 2.3999863\n",
      "Iteration:  200  Accuracy: 0.4134133 loss: 1.6847692\n",
      "Iteration:  300  Accuracy: 0.51701057 loss: 1.3040329\n",
      "Iteration:  400  Accuracy: 0.5819855 loss: 1.042993\n",
      "Iteration:  500  Accuracy: 0.6049916 loss: 0.8457863\n",
      "Iteration:  600  Accuracy: 0.61670387 loss: 0.6904061\n",
      "Iteration:  700  Accuracy: 0.63134414 loss: 0.5687558\n",
      "Iteration:  800  Accuracy: 0.64542663 loss: 0.47170877\n",
      "Iteration:  900  Accuracy: 0.6537925 loss: 0.3916171\n",
      "Iteration:  1000  Accuracy: 0.6572783 loss: 0.32275957\n",
      "Iteration:  1100  Accuracy: 0.6607641 loss: 0.26423678\n",
      "Iteration:  1200  Accuracy: 0.6631344 loss: 0.21554886\n",
      "Iteration:  1300  Accuracy: 0.6645287 loss: 0.17583075\n"
     ]
    }
   ],
   "source": [
    "# Define a session\n",
    "sess = tf.Session()\n",
    "# Init all the vaeiables\n",
    "sess.run(tf.global_variables_initializer())\n",
    "for i in range (1301):\n",
    "    for j in range(100):\n",
    "        batch_xs = data_x[j*270:(j+1)*270-1,:]\n",
    "        batch_ys = data_y[j*270:(j+1)*270-1,:]\n",
    "        _, loss_val = sess.run([train_step, cross_entropy],feed_dict={x: batch_xs, y_: batch_ys})\n",
    "    if i%100==0:\n",
    "        iteration_axis = np.append(iteration_axis, [i], axis=0)\n",
    "        accuracy_axis = np.append(accuracy_axis, [sess.run(accuracy, feed_dict={x: x_test, y_: y_test})], axis=0)\n",
    "        print(\"Iteration: \",i, \" Accuracy:\", sess.run(accuracy, feed_dict={x: x_test, y_: y_test}),\"loss:\",loss_val)"
   ]
  },
  {
   "cell_type": "code",
   "execution_count": null,
   "metadata": {},
   "outputs": [],
   "source": []
  }
 ],
 "metadata": {
  "kernelspec": {
   "display_name": "Python 3",
   "language": "python",
   "name": "python3"
  },
  "language_info": {
   "codemirror_mode": {
    "name": "ipython",
    "version": 3
   },
   "file_extension": ".py",
   "mimetype": "text/x-python",
   "name": "python",
   "nbconvert_exporter": "python",
   "pygments_lexer": "ipython3",
   "version": "3.7.3"
  }
 },
 "nbformat": 4,
 "nbformat_minor": 2
}
